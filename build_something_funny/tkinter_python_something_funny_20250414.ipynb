{
 "cells": [
  {
   "cell_type": "code",
   "execution_count": 9,
   "id": "d4bb785f",
   "metadata": {},
   "outputs": [],
   "source": [
    "# Hands-On Guide: Creating a GUI with Tkinter in Python\n",
    "\n",
    "# https://medium.com/@owuordove/hands-on-guide-creating-a-gui-with-tkinter-in-python"
   ]
  },
  {
   "cell_type": "code",
   "execution_count": 10,
   "id": "6ab038ef",
   "metadata": {},
   "outputs": [
    {
     "name": "stdout",
     "output_type": "stream",
     "text": [
      "8.6\n"
     ]
    }
   ],
   "source": [
    "import tkinter as tk\n",
    "print(tk.TkVersion)"
   ]
  },
  {
   "cell_type": "code",
   "execution_count": 11,
   "id": "49600665",
   "metadata": {},
   "outputs": [
    {
     "data": {
      "text/plain": [
       "''"
      ]
     },
     "execution_count": 11,
     "metadata": {},
     "output_type": "execute_result"
    }
   ],
   "source": [
    "# Create the main window\n",
    "root = tk.Tk()\n",
    "root.title(\"My First Tkinter GUI\")"
   ]
  },
  {
   "cell_type": "code",
   "execution_count": 12,
   "id": "e84f0e94",
   "metadata": {},
   "outputs": [],
   "source": [
    "# Add a label to the window\n",
    "label = tk.Label(root, text=\"Hello, Tkinter!\")\n",
    "label.pack()"
   ]
  },
  {
   "cell_type": "code",
   "execution_count": 13,
   "id": "45ae71db",
   "metadata": {},
   "outputs": [],
   "source": [
    "# Start the Tkinter event loop\n",
    "root.mainloop()"
   ]
  },
  {
   "cell_type": "code",
   "execution_count": 14,
   "id": "41e3d441",
   "metadata": {},
   "outputs": [],
   "source": [
    "# Building a Simple Calculator"
   ]
  },
  {
   "cell_type": "code",
   "execution_count": 15,
   "id": "0c25363a",
   "metadata": {},
   "outputs": [],
   "source": [
    "def click_button(value):\n",
    "    current = entry.get()\n",
    "    entry.delete(0, tk.END)\n",
    "    entry.insert(0, current + str(value))\n",
    "\n",
    "def clear_entry():\n",
    "    entry.delete(0, tk.END)\n",
    "    \n",
    "def calculate_result():\n",
    "    try:\n",
    "        result = eval(entry.get())\n",
    "        entry.delete(0, tk.END)\n",
    "        entry.insert(0, result)\n",
    "    except Exception as e:\n",
    "        entry.delete(0, tk.END)\n",
    "        entry.insert(0, \"Error\")"
   ]
  },
  {
   "cell_type": "code",
   "execution_count": 16,
   "id": "d50a0991",
   "metadata": {},
   "outputs": [
    {
     "data": {
      "text/plain": [
       "''"
      ]
     },
     "execution_count": 16,
     "metadata": {},
     "output_type": "execute_result"
    }
   ],
   "source": [
    "root = tk.Tk()\n",
    "root.title(\"Simple Calculator\")"
   ]
  },
  {
   "cell_type": "code",
   "execution_count": 17,
   "id": "64405a95",
   "metadata": {},
   "outputs": [],
   "source": [
    "# Entry field\n",
    "entry = tk.Entry(root, width=16, font=('Arial', 14))\n",
    "entry.grid(row=0, column=0, columnspan=4)\n",
    "\n",
    "# Buttons\n",
    "buttons = [\n",
    "    ('7', 1, 0), ('8', 1, 1), ('9', 1, 2), ('/', 1, 3),\n",
    "    ('4', 2, 0), ('5', 2, 1), ('6', 2, 2), ('*', 2, 3),\n",
    "    ('1', 3, 0), ('2', 3, 1), ('3', 3, 2), ('-', 3, 3),\n",
    "    ('0', 4, 0), ('C', 4, 1), ('=', 4, 2), ('+', 4, 3),\n",
    "]"
   ]
  },
  {
   "cell_type": "code",
   "execution_count": 18,
   "id": "12433755",
   "metadata": {},
   "outputs": [],
   "source": [
    "for (text, row, column) in buttons:\n",
    "    button = tk.Button(root, text=text, width=4, height=2, command=lambda t=text: click_button(t))\n",
    "    button.grid(row=row, column=column)"
   ]
  },
  {
   "cell_type": "code",
   "execution_count": 19,
   "id": "d8bd74d9",
   "metadata": {},
   "outputs": [],
   "source": [
    "# Special case for the clear button\n",
    "clear_button = tk.Button(root, text=\"C\", width=4, height=2, command=clear_entry)\n",
    "clear_button.grid(row=4, column=1)\n",
    "# Special case for the equals button\n",
    "equals_button = tk.Button(root, text=\"=\", width=4, height=2, command=calculate_result)\n",
    "equals_button.grid(row=4, column=2)"
   ]
  },
  {
   "cell_type": "code",
   "execution_count": 20,
   "id": "657a3ac6",
   "metadata": {},
   "outputs": [],
   "source": [
    "root.mainloop()"
   ]
  },
  {
   "cell_type": "code",
   "execution_count": null,
   "id": "afbb0fda",
   "metadata": {},
   "outputs": [],
   "source": []
  },
  {
   "cell_type": "code",
   "execution_count": 31,
   "id": "c82a1de1",
   "metadata": {},
   "outputs": [],
   "source": [
    "# FUNNY PROJECT WITH TKINTER AND PYJOKES"
   ]
  },
  {
   "cell_type": "code",
   "execution_count": 39,
   "id": "c1975242",
   "metadata": {},
   "outputs": [],
   "source": [
    "import pyjokes\n",
    "import tkinter as tk"
   ]
  },
  {
   "cell_type": "code",
   "execution_count": 40,
   "id": "a540902b",
   "metadata": {},
   "outputs": [
    {
     "name": "stdout",
     "output_type": "stream",
     "text": [
      "There are II types of people: Those who understand Roman Numerals and those who don't.\n",
      "Microsoft hold a bi-monthly internal \"productive week\" where they use Google instead of Bing.\n",
      "Have you heard about the new Cray super computer? It's so fast, it executes an infinite loop in 6 seconds.\n"
     ]
    }
   ],
   "source": [
    "print(pyjokes.get_joke())\n",
    "print(pyjokes.get_joke(\"en\", category=\"neutral\"))\n",
    "print(pyjokes.get_joke(\"en\", category=\"all\"))"
   ]
  },
  {
   "cell_type": "code",
   "execution_count": 41,
   "id": "16be0149",
   "metadata": {},
   "outputs": [
    {
     "data": {
      "text/plain": [
       "''"
      ]
     },
     "execution_count": 41,
     "metadata": {},
     "output_type": "execute_result"
    }
   ],
   "source": [
    "# Create the main window\n",
    "root = tk.Tk()\n",
    "root.title(\"Funny Joke Generator\")\n",
    "root.geometry(\"1200x200\")"
   ]
  },
  {
   "cell_type": "code",
   "execution_count": 42,
   "id": "6c263a72",
   "metadata": {},
   "outputs": [],
   "source": [
    "# Add a label to the window\n",
    "label = tk.Label(root, text=\"Click the button for a joke!\", font=(\"Arial\", 14))\n",
    "label.pack(pady=20)"
   ]
  },
  {
   "cell_type": "code",
   "execution_count": 43,
   "id": "2db14a7d",
   "metadata": {},
   "outputs": [],
   "source": [
    "# Function to get a random joke\n",
    "def get_joke():\n",
    "    joke = pyjokes.get_joke()\n",
    "    label.config(text=joke)"
   ]
  },
  {
   "cell_type": "code",
   "execution_count": 44,
   "id": "ac6764b9",
   "metadata": {},
   "outputs": [],
   "source": [
    "# Add a button to get a joke\n",
    "button = tk.Button(root, text=\"Get a Joke\", command=get_joke, font=(\"Arial\", 12))\n",
    "button.pack(pady=10)"
   ]
  },
  {
   "cell_type": "code",
   "execution_count": 45,
   "id": "ee3c7013",
   "metadata": {},
   "outputs": [],
   "source": [
    "# Start the Tkinter event loop\n",
    "root.mainloop()\n",
    "# END OF THE PROJECT"
   ]
  },
  {
   "cell_type": "code",
   "execution_count": null,
   "id": "e9740e53",
   "metadata": {},
   "outputs": [],
   "source": []
  }
 ],
 "metadata": {
  "kernelspec": {
   "display_name": ".venv",
   "language": "python",
   "name": "python3"
  },
  "language_info": {
   "codemirror_mode": {
    "name": "ipython",
    "version": 3
   },
   "file_extension": ".py",
   "mimetype": "text/x-python",
   "name": "python",
   "nbconvert_exporter": "python",
   "pygments_lexer": "ipython3",
   "version": "3.10.11"
  }
 },
 "nbformat": 4,
 "nbformat_minor": 5
}
